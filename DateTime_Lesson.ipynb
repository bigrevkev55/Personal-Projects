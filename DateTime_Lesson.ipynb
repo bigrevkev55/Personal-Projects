{
  "nbformat": 4,
  "nbformat_minor": 0,
  "metadata": {
    "colab": {
      "name": "DateTime Lesson.ipynb",
      "provenance": [],
      "collapsed_sections": [],
      "authorship_tag": "ABX9TyPfoSA4wCh1VndfA4yiCH4V",
      "include_colab_link": true
    },
    "kernelspec": {
      "name": "python3",
      "display_name": "Python 3"
    }
  },
  "cells": [
    {
      "cell_type": "markdown",
      "metadata": {
        "id": "view-in-github",
        "colab_type": "text"
      },
      "source": [
        "<a href=\"https://colab.research.google.com/github/bigrevkev55/Personal-Projects/blob/main/DateTime_Lesson.ipynb\" target=\"_parent\"><img src=\"https://colab.research.google.com/assets/colab-badge.svg\" alt=\"Open In Colab\"/></a>"
      ]
    },
    {
      "cell_type": "code",
      "metadata": {
        "colab": {
          "base_uri": "https://localhost:8080/"
        },
        "id": "jSakSNVKhele",
        "outputId": "53dd01b4-fb03-42b7-d158-7c36bd9a863b"
      },
      "source": [
        "#Can also use https://pendulum.eustace.io/ for time and etc. (see last code set in this notebook)\r\n",
        "\r\n",
        "\r\n",
        "\r\n",
        "from datetime import datetime\r\n",
        "\r\n",
        "now = datetime.now()\r\n",
        "print(now)  \r\n",
        "\r\n",
        "future = datetime(2021, 1, 1)\r\n",
        "print(future)\r\n",
        "\r\n",
        "time_dif = future-now\r\n",
        "print(f' Time until 2021: {time_dif}')\r\n",
        "\r\n",
        "hours = time_dif.seconds // 3600\r\n",
        "minutes = time_dif.seconds % 3600 // 60\r\n",
        "seconds = time_dif.seconds - (hours * 3600) - (minutes * 60)\r\n",
        "print(time_dif.days, hours, minutes, seconds) \r\n",
        "\r\n",
        "#print(hours, minutes, seconds)"
      ],
      "execution_count": 1,
      "outputs": [
        {
          "output_type": "stream",
          "text": [
            "2020-12-30 03:21:47.419450\n",
            "2021-01-01 00:00:00\n",
            " Time until 2021: 1 day, 20:38:12.580550\n",
            "1 20 38 12\n"
          ],
          "name": "stdout"
        }
      ]
    },
    {
      "cell_type": "code",
      "metadata": {
        "colab": {
          "base_uri": "https://localhost:8080/"
        },
        "id": "w5KGOYqYt5bI",
        "outputId": "aeac13ad-d1fc-4574-f305-4cd852f023fb"
      },
      "source": [
        "now = datetime.now()\r\n",
        "year = now.year\r\n",
        "\r\n",
        "future = datetime(year+1, 1, 1)\r\n",
        "print(future-now)"
      ],
      "execution_count": 2,
      "outputs": [
        {
          "output_type": "stream",
          "text": [
            "1 day, 20:37:43.201706\n"
          ],
          "name": "stdout"
        }
      ]
    },
    {
      "cell_type": "code",
      "metadata": {
        "colab": {
          "base_uri": "https://localhost:8080/"
        },
        "id": "bEdXSROxut0z",
        "outputId": "9fbcf6e4-6f1f-4cad-b0bc-3aae76120015"
      },
      "source": [
        "import time\r\n",
        "\r\n",
        "print(time.gmtime(0))\r\n",
        "print(time.time())"
      ],
      "execution_count": 3,
      "outputs": [
        {
          "output_type": "stream",
          "text": [
            "time.struct_time(tm_year=1970, tm_mon=1, tm_mday=1, tm_hour=0, tm_min=0, tm_sec=0, tm_wday=3, tm_yday=1, tm_isdst=0)\n",
            "1609298544.1678507\n"
          ],
          "name": "stdout"
        }
      ]
    },
    {
      "cell_type": "code",
      "metadata": {
        "id": "gAanZv-sicpk"
      },
      "source": [
        "from platform import python_version\r\n",
        "\r\n",
        "version = python_version()   \r\n",
        "if int(version [2]) >= 7:\r\n",
        "  print(\"Nanoseconds since the epoch:\", time.time_ns())\r\n",
        "\r\n"
      ],
      "execution_count": 6,
      "outputs": []
    },
    {
      "cell_type": "code",
      "metadata": {
        "colab": {
          "base_uri": "https://localhost:8080/"
        },
        "id": "UaQn_mkhsGSt",
        "outputId": "ad10a3a1-3a89-40e3-e4a3-1ce68b525c0a"
      },
      "source": [
        "before = datetime.now()\r\n",
        "\r\n",
        "time.sleep(4)\r\n",
        "\r\n",
        "after = datetime.now()\r\n",
        "\r\n",
        "print(after-before)"
      ],
      "execution_count": 7,
      "outputs": [
        {
          "output_type": "stream",
          "text": [
            "0:00:04.001023\n"
          ],
          "name": "stdout"
        }
      ]
    },
    {
      "cell_type": "code",
      "metadata": {
        "id": "-2vOX14GtWJM"
      },
      "source": [
        "# Pendulum Website - https://pendulum.eustace.io/ \r\n",
        "# Pendulum Documentation - https://pendulum.eustace.io/docs/\r\n",
        "\r\n",
        "!pip install pendulum                       \r\n",
        "import pendulum\r\n",
        "\r\n",
        "#now = pendulum.now(tz=CST)\r\n",
        "\r\n",
        "#print now\r\n",
        "\r\n",
        "#now.to_date_string()\r\n",
        "\r\n",
        "#now.subtract(hours=6)#\r\n",
        "\r\n",
        "##print(utc)\r\n",
        "##hours_to_subtract = dt.subtract(hours = 6)\r\n",
        "\r\n",
        "#now = dt + hours_to_subtract\r\n",
        "#print(now)'''"
      ],
      "execution_count": null,
      "outputs": []
    },
    {
      "cell_type": "code",
      "metadata": {
        "colab": {
          "base_uri": "https://localhost:8080/"
        },
        "id": "zeq3Pv3U8O8g",
        "outputId": "168f784d-f36d-49e8-aecc-1c7943b8cbba"
      },
      "source": [
        "now = pendulum.now(tz='US/Michigan')\r\n",
        "\r\n",
        "print(now)"
      ],
      "execution_count": 53,
      "outputs": [
        {
          "output_type": "stream",
          "text": [
            "2020-12-29T23:52:37.379419-05:00\n"
          ],
          "name": "stdout"
        }
      ]
    }
  ]
}