{
  "nbformat": 4,
  "nbformat_minor": 0,
  "metadata": {
    "colab": {
      "name": "Machine Specs.ipynb",
      "provenance": [],
      "collapsed_sections": [],
      "authorship_tag": "ABX9TyMTKT6kjPOa6S1y4M+iVg0P",
      "include_colab_link": true
    },
    "kernelspec": {
      "name": "python3",
      "display_name": "Python 3"
    }
  },
  "cells": [
    {
      "cell_type": "markdown",
      "metadata": {
        "id": "view-in-github",
        "colab_type": "text"
      },
      "source": [
        "<a href=\"https://colab.research.google.com/github/bigrevkev55/Personal-Projects/blob/main/Machine_Specs.ipynb\" target=\"_parent\"><img src=\"https://colab.research.google.com/assets/colab-badge.svg\" alt=\"Open In Colab\"/></a>"
      ]
    },
    {
      "cell_type": "code",
      "metadata": {
        "colab": {
          "base_uri": "https://localhost:8080/"
        },
        "id": "wj5LK6SKsNni",
        "outputId": "5b078ff5-65a4-4804-ec4d-cf52d0966b5e"
      },
      "source": [
        "'''\r\n",
        "    Author:  Kevin Thomas\r\n",
        "      Date:  27-DEC-2020\r\n",
        "   Purpose:  This script gives your machine's specifications.  \r\n",
        "\r\n",
        "'''\r\n",
        "\r\n",
        "from platform import python_version, processor, machine, node, system\r\n",
        "\r\n",
        "version = python_version()   \r\n",
        "print(f'{version} is your version of python')\r\n",
        "\r\n",
        "system = system()\r\n",
        "print(f'{system} is your Operating System')\r\n",
        "\r\n",
        "machine = machine()\r\n",
        "print(f'{machine} is your machine type')\r\n",
        "\r\n",
        "processor = processor()\r\n",
        "print(f'{processor} is your processor')\r\n",
        "\r\n",
        "network_name = node()\r\n",
        "print(f\"{network_name} is your computer's network name\")"
      ],
      "execution_count": 14,
      "outputs": [
        {
          "output_type": "stream",
          "text": [
            "3.6.9 is your version of python\n",
            "Linux is your Operating System\n",
            "x86_64 is your machine type\n",
            "x86_64 is your processor\n",
            "6a148799fa34 is your computer's network name\n"
          ],
          "name": "stdout"
        }
      ]
    }
  ]
}