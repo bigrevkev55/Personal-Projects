{
  "nbformat": 4,
  "nbformat_minor": 0,
  "metadata": {
    "colab": {
      "name": "Random Selector.ipynb",
      "provenance": [],
      "collapsed_sections": [],
      "authorship_tag": "ABX9TyMwAPjj2uYa5TkJYxUeBT/+",
      "include_colab_link": true
    },
    "kernelspec": {
      "name": "python3",
      "display_name": "Python 3"
    }
  },
  "cells": [
    {
      "cell_type": "markdown",
      "metadata": {
        "id": "view-in-github",
        "colab_type": "text"
      },
      "source": [
        "<a href=\"https://colab.research.google.com/github/bigrevkev55/Personal-Projects/blob/main/Random_Selector.ipynb\" target=\"_parent\"><img src=\"https://colab.research.google.com/assets/colab-badge.svg\" alt=\"Open In Colab\"/></a>"
      ]
    },
    {
      "cell_type": "markdown",
      "metadata": {
        "id": "Fe08sr-7DrQB"
      },
      "source": [
        "# This is a random person selector.  Click the play button to randomly choose between, Rose, Kevin, Zeb, Zack, or Zanna.  Use this when trying to decide who should do a household chore.\r\n"
      ]
    },
    {
      "cell_type": "code",
      "metadata": {
        "id": "Nwy3vBfP7foy",
        "cellView": "form"
      },
      "source": [
        "#@title\n",
        "#Random Child Selector\n",
        "\n",
        "import random\n",
        "print(\"Welome to the random child selector\")\n",
        "#print(\"To choose who is going to do this chore press the play button\")\n",
        "\n",
        "childList = [\"Zeb\", \"Zanna\", \"Zack\", \"Kevin\", \"Rose\"]\n",
        "\n",
        "print(\"Your random choice is:\", random.choice(childList))"
      ],
      "execution_count": null,
      "outputs": []
    }
  ]
}