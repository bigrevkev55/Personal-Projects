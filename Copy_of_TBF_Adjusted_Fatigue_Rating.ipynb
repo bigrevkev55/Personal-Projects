{
  "nbformat": 4,
  "nbformat_minor": 0,
  "metadata": {
    "colab": {
      "name": "Copy of TBF Adjusted Fatigue Rating.ipynb",
      "provenance": [],
      "collapsed_sections": [],
      "include_colab_link": true
    },
    "kernelspec": {
      "name": "python3",
      "display_name": "Python 3"
    }
  },
  "cells": [
    {
      "cell_type": "markdown",
      "metadata": {
        "id": "view-in-github",
        "colab_type": "text"
      },
      "source": [
        "<a href=\"https://colab.research.google.com/github/bigrevkev55/Personal-Projects/blob/main/Copy_of_TBF_Adjusted_Fatigue_Rating.ipynb\" target=\"_parent\"><img src=\"https://colab.research.google.com/assets/colab-badge.svg\" alt=\"Open In Colab\"/></a>"
      ]
    },
    {
      "cell_type": "markdown",
      "metadata": {
        "id": "_DapN6CeAoLO"
      },
      "source": [
        "# **This is the TBF Adjusted Fatigue Rating Tool. **"
      ]
    },
    {
      "cell_type": "code",
      "metadata": {
        "id": "4vGDma_Eg-F_",
        "cellView": "form"
      },
      "source": [
        "#@title\n",
        "# This is the fatigue calculator for the TBF\n",
        "# Fatigue is calculated by taking the fighters \"Fatigue Rating\" and dividing it by 12 then multiplying it\n",
        "#      by the number of rounds.\n",
        "# Create welcome message and instructions.\n",
        "# Prompt to enter the fighters fatigue rating and the amount of rounds in the fight.\n",
        "# Give the fighters adjusted fatigue rating.\n",
        " \n",
        "# Create welcome message and instructions.\n",
        "!pip install colorama\n",
        "from colorama import Fore\n",
        " \n",
        "print(Fore.BLUE)\n",
        " \n",
        "fighters_fatigue_rating = int(input(\"Welcome to the Thomas Boxing Federation Fatigue Calculator! Enter the fighter's \"\n",
        "                                    \"fatigue rating: \"))\n",
        "rounds_in_the_fight = int(input(\"Now enter amount of rounds in the Fight: \"))\n",
        " \n",
        "adjusted_fatigue_rating = (fighters_fatigue_rating / 12) * rounds_in_the_fight\n",
        " \n",
        "# Prompt to enter the fighters fatigue rating and the amount of rounds in the fight.\n",
        "print({fighters_fatigue_rating} and {rounds_in_the_fight})\n",
        " \n",
        "# Give the fighters adjusted fatigue rating.\n",
        "print(Fore.RED)\n",
        "print(f\"The fighter's adjusted fatigue rating is {adjusted_fatigue_rating}\")"
      ],
      "execution_count": null,
      "outputs": []
    }
  ]
}